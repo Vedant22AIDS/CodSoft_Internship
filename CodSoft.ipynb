{
 "cells": [
  {
   "cell_type": "code",
   "execution_count": 7,
   "id": "524a74df-ba9c-4bbb-8103-1482531b155d",
   "metadata": {},
   "outputs": [
    {
     "name": "stdout",
     "output_type": "stream",
     "text": [
      "\n",
      "    1.For Addition \n",
      "    2.For Subtraction \n",
      "    3.For Multiplication\n",
      "    4.For Division\n",
      "    5.To Exit\n",
      "    \n"
     ]
    },
    {
     "name": "stdin",
     "output_type": "stream",
     "text": [
      "Enter your choice 1\n",
      "Enter First number 10\n",
      "Enter Second number 20\n"
     ]
    },
    {
     "name": "stdout",
     "output_type": "stream",
     "text": [
      "Addition :  30\n",
      "\n",
      "    1.For Addition \n",
      "    2.For Subtraction \n",
      "    3.For Multiplication\n",
      "    4.For Division\n",
      "    5.To Exit\n",
      "    \n"
     ]
    },
    {
     "name": "stdin",
     "output_type": "stream",
     "text": [
      "Enter your choice 5\n"
     ]
    }
   ],
   "source": [
    "#task 2 calculator\n",
    "\n",
    "def Add(a:int,b:int):\n",
    "    return a+b\n",
    "def Sub(a:int,b:int):\n",
    "    return a-b\n",
    "def Mul(a:int,b:int):\n",
    "    return a*b\n",
    "def Div(a:int,b:int):\n",
    "    return a//b\n",
    "    \n",
    "while(True):\n",
    "    print(\"\"\"\n",
    "    1.For Addition \n",
    "    2.For Subtraction \n",
    "    3.For Multiplication\n",
    "    4.For Division\n",
    "    5.To Exit\n",
    "    \"\"\")\n",
    "    try:\n",
    "        choice=int(input(\"Enter your choice\"))\n",
    "        if choice==5:\n",
    "            break\n",
    "        else:\n",
    "            a=int(input(\"Enter First number\"))\n",
    "            b=int(input(\"Enter Second number\"))\n",
    "            if type(choice)!=int or type(b)!=int or type(b)!=int:\n",
    "                raise TypeError(\"Invalid Data Type\")\n",
    "    except Exception as e:\n",
    "        print(e)\n",
    "    \n",
    "    else:    \n",
    "            if choice==1:\n",
    "                print(\"Addition : \",Add(a,b))\n",
    "            elif choice==2:\n",
    "                print(\"Subtraction : \",Sub(a,b))\n",
    "            elif choice==3:\n",
    "                print(\"Multiplication : \",Mul(a,b))\n",
    "            elif choice==4:\n",
    "                print(\"Division: \",Div(a,b))\n",
    "            else:\n",
    "                print(\"Enter a valid choice\")\n",
    "            "
   ]
  },
  {
   "cell_type": "code",
   "execution_count": 8,
   "id": "b781b4cf-97e6-4667-ab0d-cbac86c867ad",
   "metadata": {},
   "outputs": [
    {
     "name": "stdin",
     "output_type": "stream",
     "text": [
      "Choose rock, paper, or scissors:  rock\n"
     ]
    },
    {
     "name": "stdout",
     "output_type": "stream",
     "text": [
      "\n",
      "Your choice: rock\n",
      "Computer's choice: rock\n",
      "Result: It's a tie!\n",
      "\n",
      "Your Score: 0 | Computer Score: 0\n"
     ]
    },
    {
     "name": "stdin",
     "output_type": "stream",
     "text": [
      "Do you want to play again? (yes/no):  yes\n",
      "Choose rock, paper, or scissors:  paper\n"
     ]
    },
    {
     "name": "stdout",
     "output_type": "stream",
     "text": [
      "\n",
      "Your choice: paper\n",
      "Computer's choice: paper\n",
      "Result: It's a tie!\n",
      "\n",
      "Your Score: 0 | Computer Score: 0\n"
     ]
    },
    {
     "name": "stdin",
     "output_type": "stream",
     "text": [
      "Do you want to play again? (yes/no):  yes\n",
      "Choose rock, paper, or scissors:  scissors\n"
     ]
    },
    {
     "name": "stdout",
     "output_type": "stream",
     "text": [
      "\n",
      "Your choice: scissors\n",
      "Computer's choice: paper\n",
      "Result: You win!\n",
      "\n",
      "Your Score: 1 | Computer Score: 0\n"
     ]
    },
    {
     "name": "stdin",
     "output_type": "stream",
     "text": [
      "Do you want to play again? (yes/no):  no\n"
     ]
    },
    {
     "name": "stdout",
     "output_type": "stream",
     "text": [
      "Thanks for playing! Goodbye.\n"
     ]
    }
   ],
   "source": [
    "#task4\n",
    "import random\n",
    "\n",
    "def get_user_choice():\n",
    "    \"\"\"Prompt the user to choose rock, paper, or scissors.\"\"\"\n",
    "    while True:\n",
    "        user_choice = input(\"Choose rock, paper, or scissors: \").lower()\n",
    "        if user_choice in ['rock', 'paper', 'scissors']:\n",
    "            return user_choice\n",
    "        else:\n",
    "            print(\"Invalid choice. Please choose rock, paper, or scissors.\")\n",
    "\n",
    "def get_computer_choice():\n",
    "    \"\"\"Generate a random choice (rock, paper, or scissors) for the computer.\"\"\"\n",
    "    return random.choice(['rock', 'paper', 'scissors'])\n",
    "\n",
    "def determine_winner(user_choice, computer_choice):\n",
    "    \"\"\"Determine the winner based on the user's choice and the computer's choice.\"\"\"\n",
    "    if user_choice == computer_choice:\n",
    "        return \"It's a tie!\"\n",
    "    elif (\n",
    "        (user_choice == 'rock' and computer_choice == 'scissors') or\n",
    "        (user_choice == 'scissors' and computer_choice == 'paper') or\n",
    "        (user_choice == 'paper' and computer_choice == 'rock')\n",
    "    ):\n",
    "        return \"You win!\"\n",
    "    else:\n",
    "        return \"You lose!\"\n",
    "\n",
    "def display_result(user_choice, computer_choice, result):\n",
    "    \"\"\"Show the user's choice, the computer's choice, and the result.\"\"\"\n",
    "    print(f\"\\nYour choice: {user_choice}\")\n",
    "    print(f\"Computer's choice: {computer_choice}\")\n",
    "    print(f\"Result: {result}\\n\")\n",
    "\n",
    "def play_again():\n",
    "    \"\"\"Ask the user if they want to play another round.\"\"\"\n",
    "    return input(\"Do you want to play again? (yes/no): \").lower() == 'yes'\n",
    "\n",
    "def main():\n",
    "    user_score = 0\n",
    "    computer_score = 0\n",
    "\n",
    "    while True:\n",
    "        user_choice = get_user_choice()\n",
    "        computer_choice = get_computer_choice()\n",
    "\n",
    "        result = determine_winner(user_choice, computer_choice)\n",
    "        display_result(user_choice, computer_choice, result)\n",
    "\n",
    "        if result == \"You win!\":\n",
    "            user_score += 1\n",
    "        elif result == \"You lose!\":\n",
    "            computer_score += 1\n",
    "\n",
    "        print(f\"Your Score: {user_score} | Computer Score: {computer_score}\")\n",
    "\n",
    "        if not play_again():\n",
    "            print(\"Thanks for playing! Goodbye.\")\n",
    "            break\n",
    "\n",
    "if __name__ == \"__main__\":\n",
    "    main()\n"
   ]
  },
  {
   "cell_type": "code",
   "execution_count": 3,
   "id": "b6f4c6af-c573-41e5-bd2c-28fa874b512f",
   "metadata": {},
   "outputs": [
    {
     "name": "stdin",
     "output_type": "stream",
     "text": [
      "Enter the length of the Password 8\n"
     ]
    },
    {
     "name": "stdout",
     "output_type": "stream",
     "text": [
      "Password : 6dWv@h>%\n"
     ]
    },
    {
     "name": "stdin",
     "output_type": "stream",
     "text": [
      "Do you want this password (Y/N) N\n"
     ]
    },
    {
     "name": "stdout",
     "output_type": "stream",
     "text": [
      "Password discarded. Let's try again.\n"
     ]
    },
    {
     "name": "stdin",
     "output_type": "stream",
     "text": [
      "Enter the length of the Password 6\n"
     ]
    },
    {
     "name": "stdout",
     "output_type": "stream",
     "text": [
      "Password : 0Vo|c8\n"
     ]
    },
    {
     "name": "stdin",
     "output_type": "stream",
     "text": [
      "Do you want this password (Y/N) Y\n"
     ]
    },
    {
     "name": "stdout",
     "output_type": "stream",
     "text": [
      "Password accepted. Exiting.\n"
     ]
    }
   ],
   "source": [
    "# task 3 Password generator\n",
    "import random\n",
    "import string\n",
    "def Generate_Password(length):\n",
    "    characters = string.ascii_letters + string.digits + string.punctuation\n",
    "    password = ''.join(random.choice(characters) for i in range(length))\n",
    "    return password\n",
    "\n",
    "while(True):\n",
    "    try:\n",
    "        length=int(input(\"Enter the length of the Password\"))\n",
    "        if length<=0:\n",
    "            print(\"Enter the valid length\")\n",
    "            continue\n",
    "        else:\n",
    "            password=Generate_Password(length)\n",
    "            print(f\"Password : {password}\")\n",
    "            choice=input(\"Do you want this password (Y/N)\")\n",
    "           \n",
    "            if choice=='Y':\n",
    "                print(\"Password accepted. Exiting.\")\n",
    "                break\n",
    "            elif choice=='N':\n",
    "                continue \n",
    "            else:\n",
    "                print(\"Invalid input. Please enter 'yes' or 'no'.\")\n",
    "\n",
    "    except Exception as e:\n",
    "        print(e)"
   ]
  },
  {
   "cell_type": "code",
   "execution_count": 2,
   "id": "baa098cd-b0b0-4044-8b9e-599245b7fadd",
   "metadata": {},
   "outputs": [
    {
     "name": "stdout",
     "output_type": "stream",
     "text": [
      "\n",
      "To-Do List Application\n",
      "1. Display Tasks\n",
      "2. Add Task\n",
      "3. Remove Task\n",
      "4. Exit\n"
     ]
    },
    {
     "name": "stdin",
     "output_type": "stream",
     "text": [
      "Enter your choice (1-4):  2\n",
      "Enter task title:  DSA\n",
      "Enter task deadline (YYYY-MM-DD):  2024-01-29\n"
     ]
    },
    {
     "name": "stdout",
     "output_type": "stream",
     "text": [
      "Task added successfully.\n",
      "\n",
      "To-Do List Application\n",
      "1. Display Tasks\n",
      "2. Add Task\n",
      "3. Remove Task\n",
      "4. Exit\n"
     ]
    },
    {
     "name": "stdin",
     "output_type": "stream",
     "text": [
      "Enter your choice (1-4):  1\n"
     ]
    },
    {
     "name": "stdout",
     "output_type": "stream",
     "text": [
      "Tasks:\n",
      "1. DSA - 2024-01-29\n",
      "\n",
      "To-Do List Application\n",
      "1. Display Tasks\n",
      "2. Add Task\n",
      "3. Remove Task\n",
      "4. Exit\n"
     ]
    },
    {
     "name": "stdin",
     "output_type": "stream",
     "text": [
      "Enter your choice (1-4):  3\n"
     ]
    },
    {
     "name": "stdout",
     "output_type": "stream",
     "text": [
      "Tasks:\n",
      "1. DSA - 2024-01-29\n"
     ]
    },
    {
     "name": "stdin",
     "output_type": "stream",
     "text": [
      "Enter the number of the task to remove:  1\n"
     ]
    },
    {
     "name": "stdout",
     "output_type": "stream",
     "text": [
      "Task 'DSA' removed successfully.\n",
      "\n",
      "To-Do List Application\n",
      "1. Display Tasks\n",
      "2. Add Task\n",
      "3. Remove Task\n",
      "4. Exit\n"
     ]
    },
    {
     "name": "stdin",
     "output_type": "stream",
     "text": [
      "Enter your choice (1-4):  1\n"
     ]
    },
    {
     "name": "stdout",
     "output_type": "stream",
     "text": [
      "No tasks found.\n",
      "\n",
      "To-Do List Application\n",
      "1. Display Tasks\n",
      "2. Add Task\n",
      "3. Remove Task\n",
      "4. Exit\n"
     ]
    },
    {
     "name": "stdin",
     "output_type": "stream",
     "text": [
      "Enter your choice (1-4):  4\n"
     ]
    },
    {
     "name": "stdout",
     "output_type": "stream",
     "text": [
      "Exiting To-Do List Application. Goodbye!\n"
     ]
    }
   ],
   "source": [
    "#task1\n",
    "from datetime import datetime\n",
    "\n",
    "def display_tasks(tasks):\n",
    "    if not tasks:\n",
    "        print(\"No tasks found.\")\n",
    "        return\n",
    "    print(\"Tasks:\")\n",
    "    for index, task in enumerate(tasks, start=1):\n",
    "        print(f\"{index}. {task['title']} - {task['deadline']}\")\n",
    "\n",
    "def add_task(tasks):\n",
    "    title = input(\"Enter task title: \")\n",
    "    deadline = input(\"Enter task deadline (YYYY-MM-DD): \")\n",
    "    \n",
    "    try:\n",
    "        deadline_date = datetime.strptime(deadline, \"%Y-%m-%d\").date()\n",
    "    except ValueError:\n",
    "        print(\"Invalid date format. Please use YYYY-MM-DD.\")\n",
    "        return\n",
    "    \n",
    "    new_task = {\"title\": title, \"deadline\": deadline_date}\n",
    "    tasks.append(new_task)\n",
    "    print(\"Task added successfully.\")\n",
    "\n",
    "def remove_task(tasks):\n",
    "    display_tasks(tasks)\n",
    "    if not tasks:\n",
    "        return\n",
    "    \n",
    "    try:\n",
    "        index = int(input(\"Enter the number of the task to remove: \")) - 1\n",
    "        removed_task = tasks.pop(index)\n",
    "        print(f\"Task '{removed_task['title']}' removed successfully.\")\n",
    "    except (ValueError, IndexError):\n",
    "        print(\"Invalid input. Please enter a valid task number.\")\n",
    "\n",
    "\n",
    "def main():\n",
    "    tasks = []\n",
    "\n",
    "    while True:\n",
    "        print(\"\\nTo-Do List Application\")\n",
    "        print(\"1. Display Tasks\")\n",
    "        print(\"2. Add Task\")\n",
    "        print(\"3. Remove Task\")\n",
    "        print(\"4. Exit\")\n",
    "\n",
    "        choice = input(\"Enter your choice (1-4): \")\n",
    "\n",
    "        if choice == \"1\":\n",
    "            display_tasks(tasks)\n",
    "        elif choice == \"2\":\n",
    "            add_task(tasks)\n",
    "        elif choice == \"3\":\n",
    "            remove_task(tasks)\n",
    "        elif choice == \"4\":\n",
    "            print(\"Exiting To-Do List Application. Goodbye!\")\n",
    "            break\n",
    "        else:\n",
    "            print(\"Invalid choice. Please enter a number between 1 and 4.\")\n",
    "\n",
    "if __name__ == \"__main__\":\n",
    "    main()\n",
    "\n"
   ]
  },
  {
   "cell_type": "code",
   "execution_count": 2,
   "id": "4c9d7258-7637-45ff-b519-125db94b411a",
   "metadata": {},
   "outputs": [],
   "source": [
    "#task5\n",
    "import tkinter as tk\n",
    "from tkinter import messagebox\n",
    "\n",
    "class ContactManagerUI:\n",
    "    def __init__(self, master):\n",
    "        self.master = master\n",
    "        self.master.title(\"Contact Manager\")\n",
    "\n",
    "        self.contacts = {}\n",
    "\n",
    "        self.frame = tk.Frame(self.master)\n",
    "        self.frame.pack(padx=20, pady=20)\n",
    "\n",
    "        self.label_name = tk.Label(self.frame, text=\"Name:\")\n",
    "        self.label_name.grid(row=0, column=0, sticky=\"e\")\n",
    "        self.entry_name = tk.Entry(self.frame)\n",
    "        self.entry_name.grid(row=0, column=1)\n",
    "\n",
    "        self.label_phone = tk.Label(self.frame, text=\"Phone:\")\n",
    "        self.label_phone.grid(row=1, column=0, sticky=\"e\")\n",
    "        self.entry_phone = tk.Entry(self.frame)\n",
    "        self.entry_phone.grid(row=1, column=1)\n",
    "\n",
    "        self.label_email = tk.Label(self.frame, text=\"Email:\")\n",
    "        self.label_email.grid(row=2, column=0, sticky=\"e\")\n",
    "        self.entry_email = tk.Entry(self.frame)\n",
    "        self.entry_email.grid(row=2, column=1)\n",
    "\n",
    "        self.label_address = tk.Label(self.frame, text=\"Address:\")\n",
    "        self.label_address.grid(row=3, column=0, sticky=\"e\")\n",
    "        self.entry_address = tk.Entry(self.frame)\n",
    "        self.entry_address.grid(row=3, column=1)\n",
    "\n",
    "        self.button_add = tk.Button(self.frame, text=\"Add Contact\", command=self.add_contact)\n",
    "        self.button_add.grid(row=4, columnspan=2, pady=10)\n",
    "\n",
    "        self.button_search = tk.Button(self.frame, text=\"Search\", command=self.search_contact)\n",
    "        self.button_search.grid(row=5, columnspan=2, pady=10)\n",
    "\n",
    "        self.label_search_result = tk.Label(self.frame, text=\"Search Results:\")\n",
    "        self.label_search_result.grid(row=6, columnspan=2)\n",
    "\n",
    "        self.scrollbar = tk.Scrollbar(self.frame)\n",
    "        self.scrollbar.grid(row=7, column=2, sticky=\"ns\")\n",
    "\n",
    "        self.listbox_contacts = tk.Listbox(self.frame, yscrollcommand=self.scrollbar.set, width=50, height=10)\n",
    "        self.listbox_contacts.grid(row=7, columnspan=2, padx=10, pady=10)\n",
    "        self.scrollbar.config(command=self.listbox_contacts.yview)\n",
    "\n",
    "    def add_contact(self):\n",
    "        name = self.entry_name.get()\n",
    "        phone = self.entry_phone.get()\n",
    "        email = self.entry_email.get()\n",
    "        address = self.entry_address.get()\n",
    "        \n",
    "        self.contacts[name] = {'phone': phone, 'email': email, 'address': address}\n",
    "\n",
    "        messagebox.showinfo(\"Success\", \"Contact added successfully.\")\n",
    "\n",
    "        self.entry_name.delete(0, tk.END)\n",
    "        self.entry_phone.delete(0, tk.END)\n",
    "        self.entry_email.delete(0, tk.END)\n",
    "        self.entry_address.delete(0, tk.END)\n",
    "\n",
    "    def search_contact(self):\n",
    "        self.listbox_contacts.delete(0, tk.END)\n",
    "        search_key = self.entry_name.get()\n",
    "        search_results = []\n",
    "\n",
    "        for name, contact in self.contacts.items():\n",
    "            if search_key.lower() in name.lower():\n",
    "                search_results.append((name, contact['phone'], contact['email'], contact['address']))\n",
    "\n",
    "        if search_results:\n",
    "            for result in search_results:\n",
    "                self.listbox_contacts.insert(tk.END, f\"Name: {result[0]}, Phone: {result[1]}, Email: {result[2]}, Address: {result[3]}\")\n",
    "        else:\n",
    "            messagebox.showinfo(\"No Results\", \"No contacts found.\")\n",
    "\n",
    "def main():\n",
    "    root = tk.Tk()\n",
    "    app = ContactManagerUI(root)\n",
    "    root.mainloop()\n",
    "\n",
    "if __name__ == \"__main__\":\n",
    "    main()\n"
   ]
  },
  {
   "cell_type": "code",
   "execution_count": null,
   "id": "95de352a-69fa-4a78-ad64-d799e9ff5555",
   "metadata": {},
   "outputs": [],
   "source": []
  }
 ],
 "metadata": {
  "kernelspec": {
   "display_name": "Python 3 (ipykernel)",
   "language": "python",
   "name": "python3"
  },
  "language_info": {
   "codemirror_mode": {
    "name": "ipython",
    "version": 3
   },
   "file_extension": ".py",
   "mimetype": "text/x-python",
   "name": "python",
   "nbconvert_exporter": "python",
   "pygments_lexer": "ipython3",
   "version": "3.11.5"
  }
 },
 "nbformat": 4,
 "nbformat_minor": 5
}
